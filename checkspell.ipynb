{
 "cells": [
  {
   "cell_type": "markdown",
   "metadata": {},
   "source": [
    "# LanguageTool"
   ]
  },
  {
   "cell_type": "code",
   "execution_count": 15,
   "metadata": {
    "scrolled": true
   },
   "outputs": [],
   "source": [
    "#!pip install language_tool_python"
   ]
  },
  {
   "cell_type": "code",
   "execution_count": 16,
   "metadata": {},
   "outputs": [],
   "source": [
    "import language_tool_python\n",
    "tool = language_tool_python.LanguageTool('fr')"
   ]
  },
  {
   "cell_type": "code",
   "execution_count": 17,
   "metadata": {},
   "outputs": [
    {
     "name": "stdout",
     "output_type": "stream",
     "text": [
      "2\n"
     ]
    },
    {
     "data": {
      "text/plain": [
       "('FR_SPELLING_RULE',\n",
       " ['état',\n",
       "  'tôt',\n",
       "  'étau',\n",
       "  'égout',\n",
       "  'écot',\n",
       "  'étaux',\n",
       "  'ethos',\n",
       "  'stot',\n",
       "  'éthos',\n",
       "  'étoc'])"
      ]
     },
     "execution_count": 17,
     "metadata": {},
     "output_type": "execute_result"
    }
   ],
   "source": [
    "text = 'Paire de skis quasi neuf en très bonne étot datant de l année dernière'\n",
    "matches = tool.check(text)\n",
    "print(len(matches))\n",
    "matches[0].ruleId, matches[0].replacements"
   ]
  },
  {
   "cell_type": "code",
   "execution_count": 178,
   "metadata": {
    "scrolled": true
   },
   "outputs": [
    {
     "name": "stdout",
     "output_type": "stream",
     "text": [
      "Offset 39, length 4, Rule ID: FR_SPELLING_RULE\n",
      "Message: Faute de frappe possible trouvée.\n",
      "Suggestion: état; tôt; étau; égout; écot; étaux; ethos; stot; éthos; étoc\n",
      "Paire de skis quasi neuf en très bonne étot davant l année dernière pas\n",
      "                                       ^^^^\n"
     ]
    }
   ],
   "source": [
    "print(matches[0])"
   ]
  },
  {
   "cell_type": "code",
   "execution_count": 179,
   "metadata": {
    "scrolled": false
   },
   "outputs": [
    {
     "data": {
      "text/plain": [
       "'Paire de skis quasi neuf en très bonne état avant l’année dernière pas'"
      ]
     },
     "execution_count": 179,
     "metadata": {},
     "output_type": "execute_result"
    }
   ],
   "source": [
    "tool.correct(text)"
   ]
  },
  {
   "cell_type": "markdown",
   "metadata": {},
   "source": [
    "## Grammalecte"
   ]
  },
  {
   "cell_type": "code",
   "execution_count": 18,
   "metadata": {
    "scrolled": true
   },
   "outputs": [],
   "source": [
    "#!pip install pygrammalecte"
   ]
  },
  {
   "cell_type": "code",
   "execution_count": 2,
   "metadata": {
    "scrolled": true
   },
   "outputs": [],
   "source": [
    "import pygrammalecte\n",
    "import unicodedata\n",
    "import language_tool_python\n",
    "\n",
    "text = \"\"\"Paire de Skis quasi neufs en très bonne état, modèle de lannée dernière ac fixatins Salomon\n",
    "très bonne affaire n hésitez pas !!!\"\"\""
   ]
  },
  {
   "cell_type": "code",
   "execution_count": 20,
   "metadata": {},
   "outputs": [
    {
     "name": "stdout",
     "output_type": "stream",
     "text": [
      "Paire de Skis quasi neufs en très bon état, modèle de l'annexe dernière avec fixations Salomon.\n",
      "très bonne affaire n'hésitez pas !\n"
     ]
    }
   ],
   "source": [
    "print(pygrammalecte.correct(text))"
   ]
  },
  {
   "cell_type": "markdown",
   "metadata": {},
   "source": [
    "* Development"
   ]
  },
  {
   "cell_type": "code",
   "execution_count": 3,
   "metadata": {},
   "outputs": [
    {
     "name": "stdout",
     "output_type": "stream",
     "text": [
      "Ligne 1 [40:44] [g2__gn_pfx_en_2m__b1_a1_1] Accord de genre erroné avec « bonne ».\n",
      "Ligne 1 [34:39] [g2__gn_pfx_en_2m__b1_a2_1] Accord de genre erroné avec « état ». (Suggestions : bon)\n",
      "Ligne 1 [56:62] Mot inconnu : lannée\n",
      "Ligne 1 [75:83] Mot inconnu : fixatins\n",
      "Ligne 2 [32:34] [nbsp_avant_double_ponctuation] Il manque un espace insécable. (Suggestions :  !)\n"
     ]
    }
   ],
   "source": [
    "from pygrammalecte import grammalecte_text\n",
    "\n",
    "for message in grammalecte_text(text):\n",
    "    print(message)"
   ]
  },
  {
   "cell_type": "code",
   "execution_count": 6,
   "metadata": {},
   "outputs": [],
   "source": [
    "other_corrections = {\n",
    "    \"!!\": \"!\",\n",
    "    \"??\": \"?\",\n",
    "    \"?!\": \"?\",\n",
    "    \" d \": \" d'\",\n",
    "    \" n \": \" n'\",\n",
    "    \" l \": \" l'\",\n",
    "    \"tps\": \"temps\",\n",
    "    \"ac\": \"avec\",\n",
    "    \"ok\": \"OK\",\n",
    "    \"okay\": \"OK\",\n",
    "    \"pr\": \"pour\",\n",
    "}\n",
    "\n",
    "def replace_values_in_string(text, args_dict):\n",
    "    for key in args_dict.keys():\n",
    "        text = text.replace(key, str(args_dict[key]))\n",
    "    return text\n",
    "\n",
    "def correct(text: str) -> str:\n",
    "    \n",
    "    # get correction messages and sort them in reverse order\n",
    "    messages = list(pygrammalecte.grammalecte_text(text, as_dict=True))\n",
    "    messages = sorted(messages, key = lambda i: (i['line'], i['start']), reverse=True)\n",
    "    \n",
    "    # split text in lines and characters\n",
    "    lines = text.splitlines()\n",
    "    lines = [list(x) for x in lines]\n",
    "    \n",
    "    # apply corrections\n",
    "    unknown_words = []\n",
    "    for message in messages:\n",
    "        line = lines[message['line']-1]\n",
    "        if 'word' in message:\n",
    "            unknown_words.append(message['word']) # store unknown words for later\n",
    "        try:\n",
    "            line[message['start']:message['end']] = list(message['suggestions'][0])\n",
    "        except:\n",
    "            continue\n",
    "    \n",
    "    # rebuild text\n",
    "    corrected_lines = [''.join(x) for x in lines]\n",
    "    corrected_lines = [l + '.' if not l.endswith(('.', '!', '?', ',', ';', ':')) else l for l in corrected_lines]\n",
    "    corrected_lines = [l[0].upper() + l[1:] if l[0].upper() != l[0] else l for l in corrected_lines]\n",
    "    corrected_text = '\\n'.join(corrected_lines)\n",
    "    \n",
    "    # perform additional checks\n",
    "    if any(x in corrected_text for x in other_corrections):\n",
    "        corrected_text = replace_values_in_string(corrected_text, other_corrections)\n",
    "    for word in unknown_words:\n",
    "        if word.startswith(('n', 'l', 'd')):\n",
    "            new_word = word[:1] + \"'\" + word[1:]\n",
    "            corrected_text = corrected_text.replace(word, new_word)\n",
    "    \n",
    "    # perform languagetool corrections on top of everything\n",
    "    tool = language_tool_python.LanguageTool('fr')\n",
    "    corrected_text = tool.correct(corrected_text)\n",
    "    corrected_text = unicodedata.normalize(\"NFKD\", corrected_text)\n",
    "    \n",
    "    return corrected_text"
   ]
  },
  {
   "cell_type": "code",
   "execution_count": 7,
   "metadata": {},
   "outputs": [
    {
     "name": "stdout",
     "output_type": "stream",
     "text": [
      "Paire de Skis quasi neufs en très bon état, modèle de l'année dernière avec fixations Salomon.\n",
      "Très bonne affaire n'hésitez pas !!\n"
     ]
    }
   ],
   "source": [
    "corrected_text = correct(text)\n",
    "print(corrected_text)"
   ]
  },
  {
   "cell_type": "code",
   "execution_count": null,
   "metadata": {},
   "outputs": [],
   "source": []
  }
 ],
 "metadata": {
  "kernelspec": {
   "display_name": "Python 3",
   "language": "python",
   "name": "python3"
  },
  "language_info": {
   "codemirror_mode": {
    "name": "ipython",
    "version": 3
   },
   "file_extension": ".py",
   "mimetype": "text/x-python",
   "name": "python",
   "nbconvert_exporter": "python",
   "pygments_lexer": "ipython3",
   "version": "3.8.3"
  },
  "toc": {
   "base_numbering": 1,
   "nav_menu": {},
   "number_sections": true,
   "sideBar": true,
   "skip_h1_title": false,
   "title_cell": "Table of Contents",
   "title_sidebar": "Contents",
   "toc_cell": false,
   "toc_position": {},
   "toc_section_display": true,
   "toc_window_display": false
  }
 },
 "nbformat": 4,
 "nbformat_minor": 4
}
